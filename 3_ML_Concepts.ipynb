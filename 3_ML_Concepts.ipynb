{
 "cells": [
  {
   "cell_type": "raw",
   "metadata": {},
   "source": [
    "Encoding Categorical Data"
   ]
  },
  {
   "cell_type": "raw",
   "metadata": {},
   "source": [
    "\n",
    "    from sklearn.metrics import roc_curve,auc\n",
    "    "
   ]
  },
  {
   "cell_type": "markdown",
   "metadata": {},
   "source": [
    "<h2 style=\"color:blue\" align=\"left\"> 1. Label Encoder </h2>"
   ]
  },
  {
   "cell_type": "raw",
   "metadata": {},
   "source": [
    "from sklearn.preprocessing import LabelEncoder, OneHotEncoder\n",
    "\n",
    "\n",
    "# Label Encoder:\n",
    "\n",
    "         from sklearn.preprocessing import LabelEncoder\n",
    "         \n",
    "         label_quality = LabelEncoder()\n",
    "         \n",
    "         df[\"quality\"] = label_quality.fit_transform(df[\"quality\"])\n",
    "         \n",
    "         \n",
    "# OneHotEncoder:\n",
    "\n",
    "         from sklearn.preprocessing import OneHotEncoder\n",
    "         \n",
    "         ohe = OneHotEncoder(sparse=False)\n",
    "         \n",
    "         ohe.fit_transform(df[['sex]])\n",
    "         \n",
    "         # ohe.categories_"
   ]
  },
  {
   "cell_type": "markdown",
   "metadata": {},
   "source": [
    "--------------"
   ]
  },
  {
   "cell_type": "markdown",
   "metadata": {},
   "source": [
    "<h2 style=\"color:blue\" align=\"left\"> 2. Standard Scaler </h2>"
   ]
  },
  {
   "cell_type": "markdown",
   "metadata": {},
   "source": [
    "### Use StandardScaler\n",
    "- StandardScaler() use for value transform\n",
    "- fit_transform() use for train data transform\n",
    "- transform() use for test data transform"
   ]
  },
  {
   "cell_type": "raw",
   "metadata": {},
   "source": [
    "#  Standard Scaler:\n",
    "\n",
    "         \n",
    "         from sklearn.preprocessing import StandardScaler\n",
    "\n",
    "         sc = StandardScaler()\n",
    " \n",
    "         X_train = sc.fit_transform(X_train)\n",
    "\n",
    "         X_test = sc.transform(X_test)"
   ]
  },
  {
   "cell_type": "markdown",
   "metadata": {},
   "source": [
    "---------------------"
   ]
  },
  {
   "cell_type": "markdown",
   "metadata": {},
   "source": [
    "<h2 style=\"color:blue\" align=\"left\"> 3. Feature Selection </h2>"
   ]
  },
  {
   "cell_type": "raw",
   "metadata": {},
   "source": [
    "# Feature Selection:\n",
    "\n",
    "\n",
    "       from sklearn.feature_selection import SelectKBest\n",
    "\n",
    "       from sklearn.feature_selection import chi2"
   ]
  },
  {
   "cell_type": "markdown",
   "metadata": {},
   "source": [
    "----------"
   ]
  },
  {
   "cell_type": "markdown",
   "metadata": {},
   "source": [
    "print(\"Support Vector Machine Accuracy: {}\".format(svm.score(xx_test, yy_test)))\n",
    "print(\"DecisionTreeClassifier Accuracy: {}\".format(dtc.score(xx_test, yy_test)))\n",
    "print(\"LogisticRegression Accuracy: {}\".format(lg.score(xx_test, yy_test)))\n",
    "print(\"RandomForestClassifier Accuracy: {}\".format(rfc.score(xx_test, yy_test)))"
   ]
  },
  {
   "cell_type": "markdown",
   "metadata": {},
   "source": [
    "### Cross Validation\n",
    "#### cross_val_score function"
   ]
  },
  {
   "cell_type": "raw",
   "metadata": {},
   "source": [
    "#  Cross Validation:\n",
    "\n",
    "\n",
    "    1. KNN\n",
    "    \n",
    "\n",
    "         from sklearn.model_selection import cross_val_score\n",
    "\n",
    "         knnclassifier = KNeighborsClassifier(n_neighbors=4)\n",
    "\n",
    "         print(cross_val_score(knnclassifier, x, y, cv=10, scoring ='accuracy').mean())\n",
    "         \n",
    "         \n",
    "         print(cross_val_score(knnclassifier, x, y, cv=10, scoring ='accuracy'))\n",
    "         \n",
    "         \n",
    "    2. Logistic Regression\n",
    "    \n",
    "    \n",
    "         logreg = LogisticRegression()\n",
    "\n",
    "         print (cross_val_score(logreg, x, y, cv=10, scoring = 'accuracy').mean())\n",
    "         \n",
    "         \n",
    "         \n",
    "-------------------------------------------------------------------------------------------------------------------\n",
    "\n",
    "\n",
    "from sklearn.model_selection import cross_val_score\n",
    "\n",
    "\n",
    "    1. Logistic regression\n",
    "    \n",
    "    \n",
    "        cross_val_score(LogisticRegression(solver='liblinear',multi_class='ovr'), digits.data, digits.target,cv=3)\n",
    "        \n",
    "        \n",
    "    2. svm model\n",
    "    \n",
    "    \n",
    "        cross_val_score(SVC(gamma='auto'), digits.data, digits.target,cv=3)\n",
    "        \n",
    "        \n",
    "    3. random forest\n",
    "    \n",
    "    \n",
    "        cross_val_score(RandomForestClassifier(n_estimators=40),digits.data, digits.target,cv=3)\n",
    "         "
   ]
  },
  {
   "cell_type": "markdown",
   "metadata": {},
   "source": [
    "### KFold cross validation"
   ]
  },
  {
   "cell_type": "raw",
   "metadata": {},
   "source": [
    "from sklearn.model_selection import KFold\n",
    "kf = KFold(n_splits=3)\n",
    "kf\n",
    "\n",
    "for train_index, test_index in kf.split([1,2,3,4,5,6,7,8,9]):\n",
    "    print(train_index, test_index)\n",
    "    \n",
    "-----------------------------------------------------------------------    \n",
    "    \n",
    "def get_score(model, X_train, X_test, y_train, y_test):\n",
    "    model.fit(X_train, y_train)\n",
    "    return model.score(X_test, y_test)\n",
    "    \n",
    "    \n",
    "from sklearn.model_selection import StratifiedKFold\n",
    "folds = StratifiedKFold(n_splits=3)\n",
    "\n",
    "scores_logistic = []\n",
    "scores_svm = []\n",
    "scores_rf = []\n",
    "\n",
    "for train_index, test_index in folds.split(digits.data,digits.target):\n",
    "    X_train, X_test, y_train, y_test = digits.data[train_index], digits.data[test_index], \\\n",
    "                                       digits.target[train_index], digits.target[test_index]\n",
    "    scores_logistic.append(get_score(LogisticRegression(solver='liblinear',multi_class='ovr'), X_train, X_test, y_train, y_test))  \n",
    "    scores_svm.append(get_score(SVC(gamma='auto'), X_train, X_test, y_train, y_test))\n",
    "    scores_rf.append(get_score(RandomForestClassifier(n_estimators=40), X_train, X_test, y_train, y_test))    "
   ]
  },
  {
   "cell_type": "markdown",
   "metadata": {},
   "source": [
    "### Parameter tunning using k fold cross validation"
   ]
  },
  {
   "cell_type": "markdown",
   "metadata": {},
   "source": [
    "#### Here we used cross_val_score to fine tune our random forest classifier and figured that having around 40 trees in random forest gives best result."
   ]
  },
  {
   "cell_type": "raw",
   "metadata": {},
   "source": [
    "scores1 = cross_val_score(RandomForestClassifier(n_estimators=5),digits.data, digits.target, cv=10)\n",
    "np.average(scores1)\n",
    "\n",
    "scores2 = cross_val_score(RandomForestClassifier(n_estimators=20),digits.data, digits.target, cv=10)\n",
    "np.average(scores2)\n",
    "\n",
    "scores3 = cross_val_score(RandomForestClassifier(n_estimators=30),digits.data, digits.target, cv=10)\n",
    "np.average(scores3)\n",
    "\n",
    "scores4 = cross_val_score(RandomForestClassifier(n_estimators=40),digits.data, digits.target, cv=10)\n",
    "np.average(scores4)"
   ]
  },
  {
   "cell_type": "markdown",
   "metadata": {},
   "source": [
    "-------------------------------------------------------------------------------------------------------------------------------"
   ]
  },
  {
   "cell_type": "markdown",
   "metadata": {},
   "source": [
    "#### Accuracy Score\n",
    "#### Precision Score\n",
    "#### Recall score\n",
    "#### confusion_matrix\n",
    "#### classification_report"
   ]
  },
  {
   "cell_type": "raw",
   "metadata": {},
   "source": [
    "\n",
    "#  Accuracy Score:\n",
    "\n",
    "\n",
    "         from sklearn.metrics import accuracy_score\n",
    "         \n",
    "         cm = accuracy_score(y_test, pred_rfc)\n",
    "         \n",
    "         \n",
    "\n",
    "#  Precision Score:\n",
    "\n",
    "\n",
    "         from sklearn.metrics import precision_score\n",
    "\n",
    "         precision = precision_score(y_test, pred_clf)\n",
    "         \n",
    "         \n",
    "         \n",
    "#  recall score\n",
    "\n",
    "\n",
    "         from sklearn.metrics import recall_score\n",
    "\n",
    "         recall = recall_score(y_test, pred_clf)\n",
    "         \n",
    "         \n",
    "         \n",
    "#  confusion_matrix, classification_report\n",
    "\n",
    "\n",
    "         from sklearn.metrics import confusion_matrix, classification_report\n",
    "\n",
    "         print(classification_report(y_test, pred_rfc))\n",
    "  \n",
    "         print(confusion_matrix(y_test, pred_rfc))  \n",
    "         "
   ]
  },
  {
   "cell_type": "markdown",
   "metadata": {},
   "source": [
    "- Train score = 1 ---> Overfitting"
   ]
  },
  {
   "cell_type": "markdown",
   "metadata": {},
   "source": [
    "### Mean Absolute Error\n",
    "### Mean Squared Error\n",
    "### Root Mean Squared Error"
   ]
  },
  {
   "cell_type": "raw",
   "metadata": {},
   "source": [
    "print('Mean Absolute Error:', metrics.mean_absolute_error(y_test, y_pred))\n",
    "\n",
    "print('Mean Squared Error:', metrics.mean_squared_error(y_test, y_pred))\n",
    "\n",
    "print('Root Mean Squared Error:', np.sqrt(metrics.mean_squared_error(y_test, y_pred))"
   ]
  },
  {
   "cell_type": "markdown",
   "metadata": {},
   "source": [
    "### Mean Squared Error"
   ]
  },
  {
   "cell_type": "raw",
   "metadata": {},
   "source": [
    "#  Mean Squared Error (Lesser value to be considered)\n",
    "\n",
    "         np.mean((y_test - y_pred)**2)\n",
    "         \n",
    "-----------------------------------------------------\n",
    "\n",
    "         from sklearn.metrics import mean_squared_error\n",
    "         \n",
    "         mean_squared_error(y_test - y_pred)\n",
    "         "
   ]
  },
  {
   "cell_type": "markdown",
   "metadata": {},
   "source": [
    "from sklearn.metrics import mean_squared_error as MSE"
   ]
  },
  {
   "cell_type": "markdown",
   "metadata": {},
   "source": [
    "-------------------------------------------------------------------------------------------------------------------------------"
   ]
  },
  {
   "cell_type": "markdown",
   "metadata": {},
   "source": [
    "## Missing Data"
   ]
  },
  {
   "cell_type": "markdown",
   "metadata": {},
   "source": [
    "### 1. Delete the row"
   ]
  },
  {
   "cell_type": "raw",
   "metadata": {},
   "source": [
    "df.dropna()"
   ]
  },
  {
   "cell_type": "markdown",
   "metadata": {},
   "source": [
    "### 2. Imputer (Apply Classifer Algorithm to predict / Create a seperate model / Create Sub-model)\n",
    "### 3. Statistical methods Mean, Median and Mode"
   ]
  },
  {
   "cell_type": "raw",
   "metadata": {},
   "source": [
    "#  Imputer is deprecated\n",
    "   \n",
    "         XXXXXXXXXXXXXXXXXXXXXXXXXXXXXXXXXXXXXXXXXXXXXXXXXXXXXXXXXXXXXXXXXX\n",
    "\n",
    "         from sklearn.preprocessing import Imputer\n",
    "         \n",
    "         imputer = Imputer(missing_values = 'NaN', strategy='mean', axis=0)\n",
    "         \n",
    "         imputer = imputer.fit(X[:, 1:3])\n",
    "         \n",
    "         X[:, 1:3] = imputer.transform(X[:, 1:3])\n",
    "\n",
    "----------------------------------------------------------------------------------------------\n",
    "\n",
    "Simple imputer\n",
    "\n",
    "\n",
    "         from sklearn.impute import SimpleImputer\n",
    "         \n",
    "         imputer = SimpleImputer(missing_values = 'NaN', strategy='mean', verbose=0)\n",
    "         \n",
    "         imputer = imputer.fit(X[:, 1:3])\n",
    "         \n",
    "         X[:, 1:3] = imputer.transform(X[:, 1:3])\n",
    "         \n",
    "         \n",
    "         y = pd.DataFrame(x)\n",
    "         \n",
    "        \n",
    "---------------------------------------------------------------------------------------------\n",
    "\n",
    "KNN imputer\n",
    "\n",
    "\n",
    "         from sklearn.impute import KNNImputer\n",
    "\n",
    "         imputer = KNNImputer(n_neighbors=2, weights=\"uniform\")\n",
    "\n",
    "         imputer.fit_transform(X)\n",
    "\n",
    "\n",
    "--------------------------------------------------------------------------------------------\n",
    "\n",
    "from sklearn.impute import SimpleImputer, KNNImputer, IterativeImputer\n",
    "\n",
    "from sklearn.model_selection import cross_val_score\n",
    "\n",
    "from sklearn.pipeline import make_pipeline"
   ]
  },
  {
   "cell_type": "markdown",
   "metadata": {},
   "source": [
    "-------------------------------------------------------------------------------------------------------------------------------"
   ]
  },
  {
   "cell_type": "raw",
   "metadata": {},
   "source": [
    "from sklearn.model_selection import cross_val_score\n",
    "cross_val_score(logreg, X, y, cv=5, scoring='accuracy').mean()"
   ]
  },
  {
   "cell_type": "markdown",
   "metadata": {},
   "source": [
    "### ROC Curve with Support Vector Machine"
   ]
  },
  {
   "cell_type": "raw",
   "metadata": {},
   "source": [
    "y_prob = svm.predict_proba(x_test)[:,1]\n",
    "fpr, tpr, threshold = roc_curve(y_test,y_prob)\n",
    "Auc = auc(fpr, tpr)\n",
    "plt.figure(figsize=(8,6))\n",
    "plt.plot(fpr, tpr,linestyle='-',label='(auc=%0.3f)' %Auc)\n",
    "plt.plot([0,1],[0,1])\n",
    "plt.title('ROC CURVE')\n",
    "plt.xlabel('False Positive Rate')\n",
    "plt.ylabel('True Positive Rate')\n",
    "plt.legend(loc=4)\n",
    "plt.show()"
   ]
  },
  {
   "cell_type": "markdown",
   "metadata": {},
   "source": [
    "### Model complexity"
   ]
  },
  {
   "cell_type": "raw",
   "metadata": {},
   "source": [
    "num = np.arange(1, 30)\n",
    "train_accuracy = []\n",
    "test_accuracy = []\n",
    "for i, k in enumerate(num):\n",
    "    svm = SVC(C=k)\n",
    "    svm.fit(x_train,y_train)\n",
    "    train_accuracy.append(svm.score(x_train, y_train))\n",
    "    test_accuracy.append(svm.score(x_test, y_test))\n",
    "\n",
    "# Plot\n",
    "plt.figure(figsize=(10,6))\n",
    "plt.plot(num, test_accuracy, label = 'Testing Accuracy')\n",
    "plt.plot(num, train_accuracy, label = 'Training Accuracy')\n",
    "plt.legend(loc=10)\n",
    "plt.title('value VS Accuracy')\n",
    "plt.xlabel('Number of C')\n",
    "plt.ylabel('Accuracy')\n",
    "plt.xticks(num)\n",
    "plt.show()\n",
    "print(\"Best accuracy is {} with C = {}\".format(np.max(test_accuracy),\n",
    "                                               1+test_accuracy.index(np.max(test_accuracy))))"
   ]
  }
 ],
 "metadata": {
  "kernelspec": {
   "display_name": "Python 3",
   "language": "python",
   "name": "python3"
  },
  "language_info": {
   "codemirror_mode": {
    "name": "ipython",
    "version": 3
   },
   "file_extension": ".py",
   "mimetype": "text/x-python",
   "name": "python",
   "nbconvert_exporter": "python",
   "pygments_lexer": "ipython3",
   "version": "3.7.3"
  }
 },
 "nbformat": 4,
 "nbformat_minor": 2
}
