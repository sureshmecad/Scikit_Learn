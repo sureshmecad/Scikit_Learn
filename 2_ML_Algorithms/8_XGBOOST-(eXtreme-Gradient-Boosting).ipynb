{
 "cells": [
  {
   "cell_type": "markdown",
   "metadata": {},
   "source": [
    "## XGBOOST (eXtreme Gradient Boosting)"
   ]
  },
  {
   "cell_type": "raw",
   "metadata": {},
   "source": [
    "# XGBOOST\n",
    "\n",
    "\n",
    "   REGRESSION:\n",
    "   \n",
    "----------------------------   \n",
    " \n",
    "    objective='reg:squarederror'\n",
    "    \n",
    " \n",
    "      import xgboost\n",
    "      from xgboost import XGBRegressor                                        # XGBoost Regressor\n",
    "      \n",
    "      reg_xgb = xgboost.XGBRegressor()\n",
    "      \n",
    "      reg_xgb.fit(X_train,y_train)\n",
    "      \n",
    "      # predicting X_test\n",
    "      y_pred_xgb = reg_xgb.predict(X_test)\n",
    "      \n",
    "      print(\"Train Score {:.2f} & Test Score {:.2f}\".format(reg_xgb.score(X_train,y_train),reg_xgb.score(X_test,y_test)))\n",
    "           \n",
    "      \n",
    "------------------------------------------------------------------------------------------------------------------------------\n",
    "\n",
    "\n",
    "  CLASSIFIER:\n",
    "  \n",
    "       Multi Class Classification    ---->   objective='multi:softprob'\n",
    "                                          \n",
    "       Binary Classification         ---->   objective='binary:logistic'\n",
    "  \n",
    "-----------------\n",
    "\n",
    "      classifier = XGBClassifier(colsample_bytree=0.5, gamma=0.4, learning_rate=0.1,\n",
    "                           max_delta_step=0, max_depth=10, min_child_weight=9,\n",
    "                           booster='gbtree', n_estimators=300, objective='multi:softprob', random_state=100)\n",
    "\n",
    "      classifier.fit(X_train,y_train)\n",
    "      "
   ]
  }
 ],
 "metadata": {
  "kernelspec": {
   "display_name": "Python 3",
   "language": "python",
   "name": "python3"
  },
  "language_info": {
   "codemirror_mode": {
    "name": "ipython",
    "version": 3
   },
   "file_extension": ".py",
   "mimetype": "text/x-python",
   "name": "python",
   "nbconvert_exporter": "python",
   "pygments_lexer": "ipython3",
   "version": "3.7.3"
  }
 },
 "nbformat": 4,
 "nbformat_minor": 2
}
