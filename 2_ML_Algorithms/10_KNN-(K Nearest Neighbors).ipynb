{
 "cells": [
  {
   "cell_type": "markdown",
   "metadata": {},
   "source": [
    "## KNN (K Nearest Neighbors)"
   ]
  },
  {
   "cell_type": "raw",
   "metadata": {},
   "source": [
    "# KNN\n",
    "\n",
    "       from sklearn.neighbors import KNeighborsClassifier\n",
    "\n",
    "       KNN = KNeighborsClassifier(n_neighbors=1)       # n_neighbors=7  ---> giving greater accuracy\n",
    "       \n",
    "       KNN.fit(x_train,y_train)\n",
    "       "
   ]
  }
 ],
 "metadata": {
  "kernelspec": {
   "display_name": "Python 3",
   "language": "python",
   "name": "python3"
  },
  "language_info": {
   "codemirror_mode": {
    "name": "ipython",
    "version": 3
   },
   "file_extension": ".py",
   "mimetype": "text/x-python",
   "name": "python",
   "nbconvert_exporter": "python",
   "pygments_lexer": "ipython3",
   "version": "3.7.3"
  }
 },
 "nbformat": 4,
 "nbformat_minor": 2
}
