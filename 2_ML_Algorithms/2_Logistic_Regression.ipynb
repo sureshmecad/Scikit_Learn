{
 "cells": [
  {
   "cell_type": "markdown",
   "metadata": {},
   "source": [
    "### Logistic Regression"
   ]
  },
  {
   "cell_type": "raw",
   "metadata": {},
   "source": [
    "#  Logistic Regression\n",
    "\n",
    "\n",
    "       LogReg = LogisticRegression(solver='liblinear',multi_class='ovr')\n",
    "       \n",
    "-----------------------------------------------------------------------------------------------       \n",
    "\n",
    "       from sklearn.linear_model import LogisticRegression\n",
    "    \n",
    "       LogReg = LogisticRegression()\n",
    "       \n",
    "       LogReg.fit(X_train, y_train)\n",
    "\n",
    "       LogReg.score(X_test, y_test)\n",
    "       "
   ]
  }
 ],
 "metadata": {
  "kernelspec": {
   "display_name": "Python 3",
   "language": "python",
   "name": "python3"
  },
  "language_info": {
   "codemirror_mode": {
    "name": "ipython",
    "version": 3
   },
   "file_extension": ".py",
   "mimetype": "text/x-python",
   "name": "python",
   "nbconvert_exporter": "python",
   "pygments_lexer": "ipython3",
   "version": "3.7.3"
  }
 },
 "nbformat": 4,
 "nbformat_minor": 2
}
