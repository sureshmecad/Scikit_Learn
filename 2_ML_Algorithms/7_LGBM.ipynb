{
 "cells": [
  {
   "cell_type": "markdown",
   "metadata": {},
   "source": [
    "## LGBM"
   ]
  },
  {
   "cell_type": "raw",
   "metadata": {},
   "source": [
    "# LGBM\n",
    "\n",
    "\n",
    "   REGRESSION:\n",
    "----------------------------   \n",
    "       \n",
    "       from lightgbm import LGBMRegressor\n",
    "\n",
    "-------------------------------------------------------------------------------------------------------------------------------\n",
    "\n",
    "  CLASSIFIER:\n",
    "  \n",
    "       Binary Class Classification    ---->   objective='binary'\n",
    "       \n",
    "       Multi Class Classification     ---->   objective='multiclass'\n",
    "       \n",
    "  \n",
    "-----------------\n",
    "\n",
    "\n",
    "      from lightgbm import LGBMClassifier\n",
    "      \n",
    "      lgbm_model = LGBMClassifier(objective='multiclass', num_leaves=31,\n",
    "                                    learning_rate=0.1, n_estimators=200,\n",
    "                                    max_bin = 100, bagging_fraction = 0.8,\n",
    "                                    bagging_freq = 5, feature_fraction = 0.8,\n",
    "                                    feature_fraction_seed=9, bagging_seed=9,\n",
    "                                    min_data_in_leaf =20, min_sum_hessian_in_leaf = 11)\n",
    "      \n",
    "      lgbm_model = lgbm_model.fit(X_train, y_train)\n",
    "      \n",
    "      y_pred_LGBM = lgbm_model.predict(X_test)\n",
    "      \n",
    "      print(\"Train Score {:.2f} & Test Score {:.2f}\".format(lgbm_model.score(X_train,y_train),lgbm_model.score(X_test,y_test)))\n",
    "      "
   ]
  }
 ],
 "metadata": {
  "kernelspec": {
   "display_name": "Python 3",
   "language": "python",
   "name": "python3"
  },
  "language_info": {
   "codemirror_mode": {
    "name": "ipython",
    "version": 3
   },
   "file_extension": ".py",
   "mimetype": "text/x-python",
   "name": "python",
   "nbconvert_exporter": "python",
   "pygments_lexer": "ipython3",
   "version": "3.7.3"
  }
 },
 "nbformat": 4,
 "nbformat_minor": 2
}
