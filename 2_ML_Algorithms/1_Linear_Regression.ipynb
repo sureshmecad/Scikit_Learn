{
 "cells": [
  {
   "cell_type": "raw",
   "metadata": {},
   "source": [
    "#  Linear Regression\n",
    "\n",
    "       from sklearn.linear_model import LinearRegression\n",
    "\n",
    "       LinReg = LinearRegression()\n",
    "       \n",
    "       \n",
    "       LinReg.fit(X_train, Y_train)\n",
    "       \n",
    "       y_pred = LinReg.predict(X_test)\n",
    "       \n",
    "       LinReg.score(X_test, Y_test)"
   ]
  },
  {
   "cell_type": "raw",
   "metadata": {},
   "source": [
    "print(X_train.shape, X_test.shape, Y_train.shape, Y_test.shape)"
   ]
  },
  {
   "cell_type": "raw",
   "metadata": {},
   "source": [
    "\n",
    "from sklearn.linear_model import LinearRegression, Lasso, Ridge\n",
    "\n",
    "\n",
    "# Linear Regression\n",
    "\n",
    "       LinReg = LinearRegression()\n",
    "\n",
    "       LinReg.fit(X_train, y_train)\n",
    "       \n",
    "       \n",
    "# Lasso Regression\n",
    "\n",
    "       lasso = Lasso()\n",
    "\n",
    "       lasso.fit(X_train, y_train)\n",
    "       \n",
    "      \n",
    "# Ridge Regression\n",
    "\n",
    "       ridge = Ridge()\n",
    "\n",
    "       ridge.fit(X_train, y_train)\n",
    "       "
   ]
  },
  {
   "cell_type": "raw",
   "metadata": {},
   "source": [
    "\n",
    "       y_pred_LinReg = LinReg.predict(X_test)\n",
    "       \n",
    "       y_pred_lasso = lasso.predict(X_test)\n",
    "       \n",
    "       y_pred_ridge = ridge.predict(X_test)\n",
    "       \n",
    "       \n",
    "       \n",
    "       print(\"Train Score {:.2f} & Test Score {:.2f}\".format(LinReg.score(X_train, y_train), LinReg.score(X_test, y_test)))\n",
    "       print(\"Train Score {:.2f} & Test Score {:.2f}\".format(lasso.score(X_train, y_train), lasso.score(X_test, y_test)))\n",
    "       print(\"Train Score {:.2f} & Test Score {:.2f}\".format(ridge.score(X_train, y_train), ridge.score(X_test, y_test)))\n"
   ]
  },
  {
   "cell_type": "markdown",
   "metadata": {},
   "source": [
    "print(\"Model\\t\\t\\t RMSE \\t\\t MSE \\t\\t MAE \\t\\t R2\")\n",
    "\n",
    "print(\"\"\"LinearRegression \\t {:.2f} \\t\\t {:.2f} \\t{:.2f} \\t\\t{:.2f}\"\"\".format(\n",
    "            np.sqrt(mean_squared_error(y_test, y_pred_LinReg)),\n",
    "            mean_squared_error(y_test, y_pred_LinReg),\n",
    "            mean_absolute_error(y_test, y_pred_LinReg),\n",
    "            r2_score(y_test, y_pred_LinReg)))\n",
    "\n",
    "print(\"\"\"LassoRegression \\t {:.2f} \\t\\t {:.2f} \\t{:.2f} \\t\\t{:.2f}\"\"\".format(\n",
    "            np.sqrt(mean_squared_error(y_test, y_pred_lasso)),\n",
    "            mean_squared_error(y_test, y_pred_lasso),\n",
    "            mean_absolute_error(y_test, y_pred_lasso),\n",
    "            r2_score(y_test, y_pred_lasso)))\n",
    "\n",
    "print(\"\"\"RidgeRegression \\t {:.2f} \\t\\t {:.2f} \\t{:.2f} \\t\\t{:.2f}\"\"\".format(\n",
    "            np.sqrt(mean_squared_error(y_test, y_pred_ridge)),\n",
    "            mean_squared_error(y_test, y_pred_ridge),\n",
    "            mean_absolute_error(y_test, y_pred_ridge),\n",
    "            r2_score(y_test, y_pred_ridge)))"
   ]
  },
  {
   "cell_type": "raw",
   "metadata": {},
   "source": [
    "# Plotting Predictions\n",
    "fig, (ax1, ax2, ax3) = plt.subplots(1,3, figsize=(12,4))\n",
    "\n",
    "ax1.scatter(y_pred_LinReg, y_test, s=20)\n",
    "ax1.plot([y_test.min(), y_test.max()], [y_test.min(), y_test.max()], 'k--', lw=2)\n",
    "ax1.set_ylabel(\"True\")\n",
    "ax1.set_xlabel(\"Predicted\")\n",
    "ax1.set_title(\"Linear Regression\")\n",
    "\n",
    "ax2.scatter(y_pred_lasso, y_test, s=20)\n",
    "ax2.plot([y_test.min(), y_test.max()], [y_test.min(), y_test.max()], 'k--', lw=2)\n",
    "ax2.set_ylabel(\"True\")\n",
    "ax2.set_xlabel(\"Predicted\")\n",
    "ax2.set_title(\"Lasso Regression\")\n",
    "\n",
    "ax3.scatter(y_pred_ridge, y_test, s=20)\n",
    "ax3.plot([y_test.min(), y_test.max()], [y_test.min(), y_test.max()], 'k--', lw=2)\n",
    "ax3.set_ylabel(\"True\")\n",
    "ax3.set_xlabel(\"Predicted\")\n",
    "ax3.set_title(\"Ridge Regression\")\n",
    "fig.suptitle(\"True vs Predicted\")\n",
    "fig.tight_layout(rect=[0, 0.03, 1, 0.95])"
   ]
  },
  {
   "cell_type": "raw",
   "metadata": {},
   "source": [
    "plt.figure(figsize=(8,7))\n",
    "plt.scatter(y_pred_train_LinReg, y_train, c = \"blue\",  label = \"Training data\")\n",
    "plt.scatter(y_pred_LinReg, y_test, c = \"black\",  label = \"Test data\")\n",
    "plt.plot(y_train, y_train, alpha=0.3, c='r')\n",
    "\n",
    "plt.xlabel(\"Predicted values\")\n",
    "plt.ylabel(\"Real values\")\n",
    "\n",
    "plt.title(\"Linear regression\")\n",
    "\n",
    "plt.legend(loc = \"upper left\")\n",
    "\n",
    "plt.show()"
   ]
  },
  {
   "cell_type": "raw",
   "metadata": {},
   "source": [
    "plt.figure(figsize=(7,6))\n",
    "plt.scatter(y_train, y_pred_train_LinReg)\n",
    "plt.plot(y_train, y_train, alpha=0.3, c='r')\n",
    "\n",
    "plt.xlabel(\"Real values\", fontsize=15, fontweight='bold')\n",
    "plt.ylabel(\"Predicted values\", fontsize=15, fontweight='bold')\n",
    "\n",
    "plt.title(\"Training Data Fit\", fontsize=18, fontweight='bold')\n",
    "\n",
    "plt.xticks(fontsize=12)\n",
    "plt.yticks(fontsize=12)\n",
    "\n",
    "plt.show()"
   ]
  },
  {
   "cell_type": "raw",
   "metadata": {},
   "source": [
    "plt.figure(figsize=(7,6))\n",
    "plt.scatter(y_test, y_pred_LinReg)\n",
    "plt.plot(y_test, y_test, alpha=0.3, c='r')\n",
    "\n",
    "plt.xlabel(\"Real values\", fontsize=15, fontweight='bold')\n",
    "plt.ylabel(\"Predicted values\", fontsize=15, fontweight='bold')\n",
    "\n",
    "plt.title(\"Test Data Fit\", fontsize=18, fontweight='bold')\n",
    "\n",
    "plt.xticks(fontsize=12)\n",
    "plt.yticks(fontsize=12)\n",
    "\n",
    "plt.show()"
   ]
  }
 ],
 "metadata": {
  "kernelspec": {
   "display_name": "Python 3",
   "language": "python",
   "name": "python3"
  },
  "language_info": {
   "codemirror_mode": {
    "name": "ipython",
    "version": 3
   },
   "file_extension": ".py",
   "mimetype": "text/x-python",
   "name": "python",
   "nbconvert_exporter": "python",
   "pygments_lexer": "ipython3",
   "version": "3.7.3"
  }
 },
 "nbformat": 4,
 "nbformat_minor": 2
}
