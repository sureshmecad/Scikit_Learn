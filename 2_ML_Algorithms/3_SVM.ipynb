{
 "cells": [
  {
   "cell_type": "markdown",
   "metadata": {},
   "source": [
    "## SVM"
   ]
  },
  {
   "cell_type": "markdown",
   "metadata": {},
   "source": [
    "-  SVM works better on **smaller numbers**\n",
    "\n",
    "\n",
    "-  SVM is **fastest and easiest** to apply"
   ]
  },
  {
   "cell_type": "raw",
   "metadata": {},
   "source": [
    "#  SVM\n",
    "\n",
    "\n",
    "---------------------------------------------------------------\n",
    "\n",
    "        from sklearn.svm import SVC\n",
    "        \n",
    "---------------------------------------------------------------\n",
    "\n",
    "        from sklearn import svm\n",
    "       \n",
    "        from sklearn.svm import SVC\n",
    "        \n",
    "---------------------------------------------------------------\n",
    "\n",
    "        svm = svm.SVC(kernel=\"linear\")\n",
    "        \n",
    "        svm.fit(X_train, y_train)\n",
    "        \n",
    "        svm.score(X_test, y_test)\n",
    "        \n",
    "        pred_svm = svm.predict(X_test)\n",
    "        \n",
    "        \n",
    "--------------------------------------\n",
    "                 \n",
    "        svm = svm.SVC()\n",
    "      \n",
    "--------------------------------------\n",
    "\n",
    "        svm = SVC(gamma='auto')\n",
    "        \n",
    "-------------------------------------        \n",
    "                    \n",
    "        svm = SVC(kernel='rbf',random_state=0)\n",
    "-------------------------------------------------------        \n",
    "        svm = SVC(kernel='rbf', random_state=0, probability=True) #probability for predict_proba\n",
    "        \n",
    "---------------------------------------------------------------\n",
    "\n",
    "       C_opt = 10 # reasonable option\n",
    "       \n",
    "       clf = svm.SVC(C=C_opt, kernel='rbf')\n",
    "       \n",
    "       clf.fit(X_train, y_train)\n",
    "---------------------------------------------------------------\n"
   ]
  }
 ],
 "metadata": {
  "kernelspec": {
   "display_name": "Python 3",
   "language": "python",
   "name": "python3"
  },
  "language_info": {
   "codemirror_mode": {
    "name": "ipython",
    "version": 3
   },
   "file_extension": ".py",
   "mimetype": "text/x-python",
   "name": "python",
   "nbconvert_exporter": "python",
   "pygments_lexer": "ipython3",
   "version": "3.7.3"
  }
 },
 "nbformat": 4,
 "nbformat_minor": 2
}
