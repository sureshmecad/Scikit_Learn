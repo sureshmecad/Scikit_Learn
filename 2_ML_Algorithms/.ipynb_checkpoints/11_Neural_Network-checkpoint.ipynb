{
 "cells": [
  {
   "cell_type": "markdown",
   "metadata": {},
   "source": [
    "## Neural Network"
   ]
  },
  {
   "cell_type": "raw",
   "metadata": {},
   "source": [
    "#  Neural Network:\n",
    "\n",
    "\n",
    "       from sklearn.neural_network import MLPClassifier\n",
    "       \n",
    "---------------------------------------------------------------------------------------------       \n",
    "       \n",
    "       mlpc = MLPClassifier(hidden_layer_sizes=(11,11,11), max_iter=500)\n",
    "\n",
    "       mlpc.fit(X_train, y_train)\n",
    "\n",
    "       pred_mlpc = mlpc.predict(X_test)\n",
    "       \n",
    "       \n",
    "---------------------------------------------------------------------------------------------       \n",
    "\n",
    "       from sklearn.metrics import confusion_matrix, classification_report\n",
    "\n",
    "       print(classification_report(y_test, pred_rfc))\n",
    "  \n",
    "       print(confusion_matrix(y_test, pred_rfc))\n",
    "       "
   ]
  },
  {
   "cell_type": "code",
   "execution_count": null,
   "metadata": {},
   "outputs": [],
   "source": []
  }
 ],
 "metadata": {
  "kernelspec": {
   "display_name": "Python 3",
   "language": "python",
   "name": "python3"
  },
  "language_info": {
   "codemirror_mode": {
    "name": "ipython",
    "version": 3
   },
   "file_extension": ".py",
   "mimetype": "text/x-python",
   "name": "python",
   "nbconvert_exporter": "python",
   "pygments_lexer": "ipython3",
   "version": "3.7.3"
  }
 },
 "nbformat": 4,
 "nbformat_minor": 2
}
