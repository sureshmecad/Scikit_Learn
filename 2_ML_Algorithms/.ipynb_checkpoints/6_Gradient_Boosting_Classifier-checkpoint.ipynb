{
 "cells": [
  {
   "cell_type": "markdown",
   "metadata": {},
   "source": [
    "## Gradient Boosting Classifier"
   ]
  },
  {
   "cell_type": "raw",
   "metadata": {},
   "source": [
    "# Gradient Boosting Classifier\n",
    "\n",
    "\n",
    "   REGRESSION:\n",
    "----------------------------   \n",
    "       \n",
    "      from sklearn.ensemble import GradientBoostingRegressor\n",
    "      \n",
    "      GBC = GradientBoostingRegressor(max_depth=2, n_estimators=3, learning_rate=1)\n",
    "\n",
    "------------------------------------------------------------------------------------------------------------------------------\n",
    "\n",
    "  CLASSIFIER:\n",
    "  \n",
    "------------------\n",
    "\n",
    "     from sklearn.ensemble import GradientBoostingClassifier\n",
    "     \n",
    "     GBC = GradientBoostingClassifier(n_estimators=300)\n",
    "     \n",
    "     GBC.fit(X_train, y_train)\n",
    "     \n",
    "     print(\"Train Score {:.2f} & Test Score {:.2f}\".format(GBC.score(X_train,y_train), GBC.score(X_test,y_test)))"
   ]
  },
  {
   "cell_type": "code",
   "execution_count": null,
   "metadata": {},
   "outputs": [],
   "source": []
  }
 ],
 "metadata": {
  "kernelspec": {
   "display_name": "Python 3",
   "language": "python",
   "name": "python3"
  },
  "language_info": {
   "codemirror_mode": {
    "name": "ipython",
    "version": 3
   },
   "file_extension": ".py",
   "mimetype": "text/x-python",
   "name": "python",
   "nbconvert_exporter": "python",
   "pygments_lexer": "ipython3",
   "version": "3.7.3"
  }
 },
 "nbformat": 4,
 "nbformat_minor": 2
}
