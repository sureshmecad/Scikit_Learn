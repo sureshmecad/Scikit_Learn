{
 "cells": [
  {
   "cell_type": "markdown",
   "metadata": {},
   "source": [
    "## CATBOOST"
   ]
  },
  {
   "cell_type": "raw",
   "metadata": {},
   "source": [
    "# CATBOOST\n",
    "\n",
    "\n",
    "  REGRESSION:\n",
    "---------------------------- \n",
    "\n",
    "     from catboost import CatBoostRegressor\n",
    "\n",
    "------------------------------------------------------------------------------------------------------------------------------\n",
    "  CLASSIFIER:\n",
    "----------------\n",
    "\n",
    "     from catboost import CatBoostClassifier\n",
    "\n",
    "     CB = CatBoostClassifier(verbose=0, n_estimators=100)\n",
    "\n",
    "     CB.fit(X_train, y_train)"
   ]
  },
  {
   "cell_type": "code",
   "execution_count": null,
   "metadata": {},
   "outputs": [],
   "source": []
  }
 ],
 "metadata": {
  "kernelspec": {
   "display_name": "Python 3",
   "language": "python",
   "name": "python3"
  },
  "language_info": {
   "codemirror_mode": {
    "name": "ipython",
    "version": 3
   },
   "file_extension": ".py",
   "mimetype": "text/x-python",
   "name": "python",
   "nbconvert_exporter": "python",
   "pygments_lexer": "ipython3",
   "version": "3.7.3"
  }
 },
 "nbformat": 4,
 "nbformat_minor": 2
}
