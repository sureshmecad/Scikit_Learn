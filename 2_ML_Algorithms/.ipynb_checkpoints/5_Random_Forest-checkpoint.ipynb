{
 "cells": [
  {
   "cell_type": "markdown",
   "metadata": {},
   "source": [
    "https://scikit-learn.org/stable/modules/generated/sklearn.ensemble.RandomForestClassifier.html"
   ]
  },
  {
   "cell_type": "markdown",
   "metadata": {},
   "source": [
    "## Random Forest"
   ]
  },
  {
   "cell_type": "markdown",
   "metadata": {},
   "source": [
    "### Regression"
   ]
  },
  {
   "cell_type": "raw",
   "metadata": {},
   "source": [
    "# Random Forest Regressor\n",
    "\n",
    "\n",
    "       from sklearn.ensemble import RandomForestRegressor\n",
    "       \n",
    "       rfc = RandomForestRegressor()\n",
    "       \n",
    "       rfc.fit(X_train, y_train)\n",
    "\n",
    "       pred_rfc = rfc.predict(X_test)"
   ]
  },
  {
   "cell_type": "markdown",
   "metadata": {},
   "source": [
    "### Classification"
   ]
  },
  {
   "cell_type": "raw",
   "metadata": {},
   "source": [
    "# Random Forest Classifier\n",
    "\n",
    "\n",
    "       from sklearn.ensemble import RandomForestClassifier\n",
    "       \n",
    "       rfc = RandomForestClassifier(n_estimators=200)\n",
    "       \n",
    "       rfc.fit(X_train, y_train)\n",
    "\n",
    "       pred_rfc = rfc.predict(X_test)\n",
    "              "
   ]
  },
  {
   "cell_type": "raw",
   "metadata": {},
   "source": [
    "\n",
    "RandomForestClassifier(n_estimators=100, criterion='gini', max_depth=None, min_samples_split=2,\n",
    "                       min_samples_leaf=1, min_weight_fraction_leaf=0.0, max_features='auto',\n",
    "                       max_leaf_nodes=None, min_impurity_decrease=0.0, min_impurity_split=None,\n",
    "                       bootstrap=True, oob_score=False, n_jobs=None, random_state=None, verbose=0,\n",
    "                       warm_start=False, class_weight=None, ccp_alpha=0.0, max_samples=None)\n",
    "    "
   ]
  },
  {
   "cell_type": "markdown",
   "metadata": {},
   "source": [
    "-------------"
   ]
  }
 ],
 "metadata": {
  "kernelspec": {
   "display_name": "Python 3",
   "language": "python",
   "name": "python3"
  },
  "language_info": {
   "codemirror_mode": {
    "name": "ipython",
    "version": 3
   },
   "file_extension": ".py",
   "mimetype": "text/x-python",
   "name": "python",
   "nbconvert_exporter": "python",
   "pygments_lexer": "ipython3",
   "version": "3.7.3"
  }
 },
 "nbformat": 4,
 "nbformat_minor": 2
}
