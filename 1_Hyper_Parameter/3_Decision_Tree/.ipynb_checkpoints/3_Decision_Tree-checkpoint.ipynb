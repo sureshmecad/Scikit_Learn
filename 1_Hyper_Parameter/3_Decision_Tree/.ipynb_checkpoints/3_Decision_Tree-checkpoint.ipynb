{
 "cells": [
  {
   "cell_type": "markdown",
   "metadata": {},
   "source": [
    "<h2 style=\"color:blue\" align=\"left\"> Decision Tree Classifier </h2>"
   ]
  },
  {
   "cell_type": "markdown",
   "metadata": {},
   "source": [
    "### 1. GridSearchCV"
   ]
  },
  {
   "cell_type": "code",
   "execution_count": null,
   "metadata": {},
   "outputs": [],
   "source": [
    "DCT = DecisionTreeClassifier(max_leaf_nodes=10, random_state=0)"
   ]
  },
  {
   "cell_type": "code",
   "execution_count": null,
   "metadata": {},
   "outputs": [],
   "source": [
    "parameters = {'max_depth' : [1,2,3,4,5],\n",
    "              'min_samples_leaf' : [1,2,3,4,5],\n",
    "              'min_samples_split' : [2,3,4,5],\n",
    "              'criterion' : ['gini','entropy']\n",
    "             }"
   ]
  },
  {
   "cell_type": "raw",
   "metadata": {},
   "source": [
    "param_grid = {'ccp_alpha':[0.0,0.1,0.2,0.3,0.4,1],\n",
    "              'criterion':['gini','entropy'],\n",
    "              'max_depth':[5,10,50,100,200],\n",
    "              'max_leaf_nodes':[5,10,50,100,200],\n",
    "              'random_state':[2,5,10,20,42]}\n",
    "\n",
    "grid = GridSearchCV(DecisionTreeClassifier(), param_grid=param_grid, cv=4)\n",
    "grid.fit(xx_train,yy_train)\n",
    "\n",
    "print(\"Tuned Model Parameters: {}\".format(grid.best_params_))\n",
    "\n",
    "----------------------------------------------------------------------------------------------------------------------------\n",
    "\n",
    "Tuned Model Parameters: {'ccp_alpha': 0.0, 'criterion': 'gini', 'max_depth': 10, 'max_leaf_nodes': 10, 'random_state': 2}\n",
    "\n",
    "-----------------------------------------------------------------------------------------------------------------------------"
   ]
  },
  {
   "cell_type": "raw",
   "metadata": {},
   "source": [
    "dtc = DecisionTreeClassifier(criterion='gini', max_depth=10, max_leaf_nodes=10,\n",
    "                            ccp_alpha=0.0, random_state=2)\n",
    "dtc.fit(xx_train, yy_train)"
   ]
  }
 ],
 "metadata": {
  "kernelspec": {
   "display_name": "Python 3",
   "language": "python",
   "name": "python3"
  },
  "language_info": {
   "codemirror_mode": {
    "name": "ipython",
    "version": 3
   },
   "file_extension": ".py",
   "mimetype": "text/x-python",
   "name": "python",
   "nbconvert_exporter": "python",
   "pygments_lexer": "ipython3",
   "version": "3.7.3"
  }
 },
 "nbformat": 4,
 "nbformat_minor": 2
}
