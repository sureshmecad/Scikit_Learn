{
 "cells": [
  {
   "cell_type": "markdown",
   "metadata": {},
   "source": [
    "**num_iterations:**\n",
    "  - It defines the number of boosting iterations to be performed.\n",
    "  \n",
    "  \n",
    "**num_leaves:**\n",
    "  - This parameter is used to set the number of leaves to be formed in tree.\n",
    "  \n",
    "  - Incase of **Light GBM**, since splitting takes place leaf-wise rather than depth-wise, **num_leaves** must be smaller than **2^(max_depth)**, otherwise it may lead to **overfitting.**\n",
    "\n",
    "\n",
    "**min_data_in_leaf:**\n",
    "  - A very small value may cause over-fitting.\n",
    "  \n",
    "  - It is also one of the most important parameters in dealing with over-fitting.\n",
    "\n",
    "\n",
    "**max_depth:**\n",
    "  - It specifies the maximum depth or level upto which a tree can grow.\n",
    "  \n",
    "  - A very high value for this parameter can cause overfitting.\n",
    "  \n",
    "\n",
    "**bagging_fraction:**\n",
    "  - It is used to specify the fraction of data to be used for each iteration.\n",
    "  \n",
    "  - This parameter is generally used to speed up the training.\n",
    "\n",
    "\n",
    "**max_bin:**\n",
    "  - Defines the maximum of bins that feature values will be bucketed in.\n",
    "  \n",
    "  - A smaller value of max_bin can save a lot of time as it buckets the feature values in discrete bins which is computationally inexpensive."
   ]
  },
  {
   "cell_type": "code",
   "execution_count": null,
   "metadata": {},
   "outputs": [],
   "source": [
    "params = {\n",
    "        \"objective\" : \"binary\",\n",
    "       \"n_estimators\":10000,\n",
    "       \"reg_alpha\" : 0.1,\n",
    "       \"reg_lambda\":0.1,\n",
    "       \"n_jobs\":-1,\n",
    "       \"colsample_bytree\":.8,\n",
    "       \"min_child_weight\":8,\n",
    "       \"subsample\":0.8715623,\n",
    "       \"min_data_in_leaf\":100,\n",
    "       \"nthread\":4,\n",
    "       \"metric\" : \"f1\",\n",
    "       \"num_leaves\" : 600,\n",
    "       \"learning_rate\" : 0.01,\n",
    "       \"verbosity\" : -1,\n",
    "       \"seed\": 120,\n",
    "       \"max_bin\":60,\n",
    "       'max_depth':15,\n",
    "       'min_gain_to_split':.0222415,\n",
    "       'scale_pos_weight':2\n",
    "    }"
   ]
  },
  {
   "cell_type": "code",
   "execution_count": null,
   "metadata": {},
   "outputs": [],
   "source": [
    "{'learning_rate': 0.06, 'max_depth': 50, 'n_estimators': 395, 'objective': 'multiclass',\n",
    " 'boosting_type': 'gbdt', 'subsample': 0.7, 'random_state': 42, 'colsample_bytree': 0.7,\n",
    " 'min_data_in_leaf': 55, 'reg_alpha': 1.6, 'reg_lambda': 1.1}"
   ]
  },
  {
   "cell_type": "code",
   "execution_count": null,
   "metadata": {},
   "outputs": [],
   "source": [
    "lgb_1 = LGBMClassifier(n_estimators=5500, learning_rate=0.01, random_state=1, colsample_bytree=0.5, \n",
    "                       reg_alpha=2, reg_lambda=2)"
   ]
  }
 ],
 "metadata": {
  "kernelspec": {
   "display_name": "Python 3",
   "language": "python",
   "name": "python3"
  },
  "language_info": {
   "codemirror_mode": {
    "name": "ipython",
    "version": 3
   },
   "file_extension": ".py",
   "mimetype": "text/x-python",
   "name": "python",
   "nbconvert_exporter": "python",
   "pygments_lexer": "ipython3",
   "version": "3.7.3"
  }
 },
 "nbformat": 4,
 "nbformat_minor": 2
}
