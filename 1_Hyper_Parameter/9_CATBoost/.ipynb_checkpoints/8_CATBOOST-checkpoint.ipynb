{
 "cells": [
  {
   "cell_type": "markdown",
   "metadata": {},
   "source": [
    "### Parameters\n",
    "\n",
    "#### loss_function:\n",
    "- Defines the metric to be used for training\n",
    "\n",
    "#### iterations:\n",
    "- The maximum number of trees that can be built.\n",
    "\n",
    "\n",
    "- The final number of trees may be less than or equal to the number.\n",
    "\n",
    "#### learning_rate:\n",
    "- Defines the learnin rate.\n",
    "\n",
    "\n",
    "- Used for reducing the gradient step.\n",
    "\n",
    "#### border_count:\n",
    "- It specifies the number of splits for numerical features.\n",
    "\n",
    "\n",
    "- It is similar to the max_bin parameter.\n",
    "\n",
    "#### depth:\n",
    "- Defines the depth of the trees.\n",
    "\n",
    "#### random_seed:\n",
    "- This parameter is similar to the 'random_state' parameter we have seen previously.\n",
    "\n",
    "\n",
    "- It is an integer valus to define the random seed for training."
   ]
  },
  {
   "cell_type": "code",
   "execution_count": null,
   "metadata": {},
   "outputs": [],
   "source": [
    "cat_3 = CatBoostClassifier(\n",
    "                           custom_metric=['AUC'], \n",
    "                           learning_rate=0.16, \n",
    "                           n_estimators=1000, \n",
    "                           subsample=0.085, \n",
    "                           max_depth=5, \n",
    "                           scale_pos_weight=6.5,  \n",
    "                           verbose = False\n",
    "                          )"
   ]
  }
 ],
 "metadata": {
  "kernelspec": {
   "display_name": "Python 3",
   "language": "python",
   "name": "python3"
  },
  "language_info": {
   "codemirror_mode": {
    "name": "ipython",
    "version": 3
   },
   "file_extension": ".py",
   "mimetype": "text/x-python",
   "name": "python",
   "nbconvert_exporter": "python",
   "pygments_lexer": "ipython3",
   "version": "3.7.3"
  }
 },
 "nbformat": 4,
 "nbformat_minor": 2
}
