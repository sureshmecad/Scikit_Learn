{
 "cells": [
  {
   "cell_type": "markdown",
   "metadata": {},
   "source": [
    "<h2 style=\"color:blue\" align=\"left\"> 2. Logistic Regression </h2>"
   ]
  },
  {
   "cell_type": "code",
   "execution_count": null,
   "metadata": {},
   "outputs": [],
   "source": [
    "lr = LogisticRegression(solver='liblinear', multi_class='ovr')\n",
    "lr.fit(X_train, y_train)\n",
    "lr.score(X_test, y_test)"
   ]
  },
  {
   "cell_type": "raw",
   "metadata": {},
   "source": [
    "- Logistic Regression supports only penalties in ['11', '12']\n",
    "\n",
    "\n",
    "- Solver **liblinear** does not support a **multinomial** backend\n",
    "\n",
    "\n",
    "- solver : str, {'newton-cg', 'lbfgs', 'liblinear', 'sag', 'saga'},              default: 'liblinear'."
   ]
  },
  {
   "cell_type": "code",
   "execution_count": null,
   "metadata": {},
   "outputs": [],
   "source": [
    "param_grid = {'C':[1.0,2.0,5.0,10.0,20.0],\n",
    "              'penalty':['l1','l2','none','elasticnet'],\n",
    "              'max_iter':[50,100,200,300,500],\n",
    "              'multi_class':['auto','ovr','multinomial']}\n",
    "\n",
    "grid=GridSearchCV(LogisticRegression(), param_grid=param_grid, cv=4)\n",
    "grid.fit(xx_train,yy_train)\n",
    "\n",
    "print(\"Tuned Model Parameters: {}\".format(grid.best_params_))\n",
    "\n",
    "-----------------------------------------------------------------------------------------------------\n",
    "Tuned Model Parameters: {'C': 5.0, 'max_iter': 50, 'multi_class': 'multinomial', 'penalty': 'l2'}\n",
    "-----------------------------------------------------------------------------------------------------"
   ]
  },
  {
   "cell_type": "code",
   "execution_count": null,
   "metadata": {},
   "outputs": [],
   "source": [
    "lg = LogisticRegression(C=5.0, max_iter=50, multi_class='multinomial', penalty='l2')\n",
    "lg.fit(xx_train,yy_train)"
   ]
  }
 ],
 "metadata": {
  "kernelspec": {
   "display_name": "Python 3",
   "language": "python",
   "name": "python3"
  },
  "language_info": {
   "codemirror_mode": {
    "name": "ipython",
    "version": 3
   },
   "file_extension": ".py",
   "mimetype": "text/x-python",
   "name": "python",
   "nbconvert_exporter": "python",
   "pygments_lexer": "ipython3",
   "version": "3.7.3"
  }
 },
 "nbformat": 4,
 "nbformat_minor": 2
}
