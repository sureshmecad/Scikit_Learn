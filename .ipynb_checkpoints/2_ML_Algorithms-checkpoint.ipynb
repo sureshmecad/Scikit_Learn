{
 "cells": [
  {
   "cell_type": "markdown",
   "metadata": {},
   "source": [
    "<h2 style=\"color:blue\" align=\"center\"> ML ALGORITHMS </h2>"
   ]
  },
  {
   "cell_type": "markdown",
   "metadata": {},
   "source": [
    "-------------------------------------------------------------------------------------------------------------------------------"
   ]
  },
  {
   "cell_type": "markdown",
   "metadata": {},
   "source": [
    "### Loading datasets from sklearn"
   ]
  },
  {
   "cell_type": "raw",
   "metadata": {},
   "source": [
    "#  Loading datasets from sklearn:\n",
    "\n",
    "------------------------------------------------------------------------------------\n",
    "\n",
    "        from sklearn import datasets\n",
    "\n",
    "        iris = datasets.load_iris()\n",
    "        \n",
    "        \n",
    "                (or)\n",
    "                \n",
    "                \n",
    "         from sklearn.datasets import load_iris\n",
    "         \n",
    "         iris = load_iris()\n",
    "         \n",
    "---------------------------------------------------------------------------------------\n",
    "\n",
    "         from sklearn.datasets import fetch_california_housing\n",
    "         \n",
    "         from sklearn.datasets import load_diabetes"
   ]
  },
  {
   "cell_type": "raw",
   "metadata": {},
   "source": [
    "#  Datasets:\n",
    "\n",
    "\n",
    "         1. breast_cancer\n",
    "         \n",
    "         2. digits\n",
    "         \n",
    "         3. iris\n",
    "         \n",
    "         4. diabetes"
   ]
  },
  {
   "cell_type": "markdown",
   "metadata": {},
   "source": [
    "-------------------------------------------------------------------------------------------------------------------------------"
   ]
  },
  {
   "cell_type": "raw",
   "metadata": {},
   "source": [
    "\n",
    "      from sklearn.ensemble import RandomForestRegressor, GradientBoostingRegressor, ExtraTreesRegressor"
   ]
  }
 ],
 "metadata": {
  "kernelspec": {
   "display_name": "Python 3",
   "language": "python",
   "name": "python3"
  },
  "language_info": {
   "codemirror_mode": {
    "name": "ipython",
    "version": 3
   },
   "file_extension": ".py",
   "mimetype": "text/x-python",
   "name": "python",
   "nbconvert_exporter": "python",
   "pygments_lexer": "ipython3",
   "version": "3.7.3"
  }
 },
 "nbformat": 4,
 "nbformat_minor": 2
}
