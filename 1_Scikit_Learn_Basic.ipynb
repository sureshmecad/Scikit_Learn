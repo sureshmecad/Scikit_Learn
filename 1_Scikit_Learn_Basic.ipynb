{
 "cells": [
  {
   "cell_type": "markdown",
   "metadata": {},
   "source": [
    "### Scikit Learn Basics"
   ]
  },
  {
   "cell_type": "raw",
   "metadata": {},
   "source": [
    "#  Simple and efficient tool for data mining and data analysis.\n",
    "\n",
    "#  Built on NumPy, SciPy and Matplotlib"
   ]
  },
  {
   "cell_type": "raw",
   "metadata": {},
   "source": [
    "#  Built on Numpy, SciPy & Matplotlib\n",
    "\n",
    "\n",
    "#  pip install scikit-learn\n",
    "\n",
    "   conda install scikit-learn\n",
    "   \n",
    "   \n",
    "#  from sklearn.family import model\n",
    "\n",
    "   from sklearn.linear_model import LinearRegression\n",
    "   \n",
    "   \n",
    "#  from sklearn import datasets, linear_model\n"
   ]
  }
 ],
 "metadata": {
  "kernelspec": {
   "display_name": "Python 3",
   "language": "python",
   "name": "python3"
  },
  "language_info": {
   "codemirror_mode": {
    "name": "ipython",
    "version": 3
   },
   "file_extension": ".py",
   "mimetype": "text/x-python",
   "name": "python",
   "nbconvert_exporter": "python",
   "pygments_lexer": "ipython3",
   "version": "3.7.3"
  }
 },
 "nbformat": 4,
 "nbformat_minor": 2
}
